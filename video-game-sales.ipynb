{
 "cells": [
  {
   "cell_type": "code",
   "execution_count": 1,
   "id": "472006ca",
   "metadata": {
    "_cell_guid": "b1076dfc-b9ad-4769-8c92-a6c4dae69d19",
    "_uuid": "8f2839f25d086af736a60e9eeb907d3b93b6e0e5",
    "execution": {
     "iopub.execute_input": "2025-04-11T00:05:55.799050Z",
     "iopub.status.busy": "2025-04-11T00:05:55.798069Z",
     "iopub.status.idle": "2025-04-11T00:06:00.072369Z",
     "shell.execute_reply": "2025-04-11T00:06:00.071130Z"
    },
    "papermill": {
     "duration": 4.281119,
     "end_time": "2025-04-11T00:06:00.074121",
     "exception": false,
     "start_time": "2025-04-11T00:05:55.793002",
     "status": "completed"
    },
    "tags": []
   },
   "outputs": [
    {
     "name": "stdout",
     "output_type": "stream",
     "text": [
      "/kaggle/input/video-games-sale/video games sales.csv\n"
     ]
    }
   ],
   "source": [
    "# This Python 3 environment comes with many helpful analytics libraries installed\n",
    "# It is defined by the kaggle/python Docker image: https://github.com/kaggle/docker-python\n",
    "# For example, here's several helpful packages to load\n",
    "\n",
    "import numpy as np # linear algebra\n",
    "import pandas as pd # data processing, CSV file I/O (e.g. pd.read_csv)\n",
    "from sklearn.preprocessing import LabelEncoder\n",
    "from sklearn.linear_model import LinearRegression\n",
    "from sklearn.model_selection import train_test_split\n",
    "from sklearn.metrics import mean_squared_error, mean_absolute_error\n",
    "import matplotlib.pyplot as plt\n",
    "\n",
    "# Input data files are available in the read-only \"../input/\" directory\n",
    "# For example, running this (by clicking run or pressing Shift+Enter) will list all files under the input directory\n",
    "\n",
    "import os\n",
    "for dirname, _, filenames in os.walk('/kaggle/input'):\n",
    "    for filename in filenames:\n",
    "        print(os.path.join(dirname, filename))\n",
    "\n",
    "# You can write up to 20GB to the current directory (/kaggle/working/) that gets preserved as output when you create a version using \"Save & Run All\" \n",
    "# You can also write temporary files to /kaggle/temp/, but they won't be saved outside of the current session"
   ]
  },
  {
   "cell_type": "code",
   "execution_count": 2,
   "id": "dbaf44fe",
   "metadata": {
    "execution": {
     "iopub.execute_input": "2025-04-11T00:06:00.083282Z",
     "iopub.status.busy": "2025-04-11T00:06:00.082103Z",
     "iopub.status.idle": "2025-04-11T00:06:00.178636Z",
     "shell.execute_reply": "2025-04-11T00:06:00.177449Z"
    },
    "papermill": {
     "duration": 0.102781,
     "end_time": "2025-04-11T00:06:00.180619",
     "exception": false,
     "start_time": "2025-04-11T00:06:00.077838",
     "status": "completed"
    },
    "tags": []
   },
   "outputs": [],
   "source": [
    "df = pd.read_csv(\"/kaggle/input/video-games-sale/video games sales.csv\")"
   ]
  },
  {
   "cell_type": "code",
   "execution_count": 3,
   "id": "7fef2057",
   "metadata": {
    "execution": {
     "iopub.execute_input": "2025-04-11T00:06:00.188522Z",
     "iopub.status.busy": "2025-04-11T00:06:00.188121Z",
     "iopub.status.idle": "2025-04-11T00:06:00.207816Z",
     "shell.execute_reply": "2025-04-11T00:06:00.206791Z"
    },
    "papermill": {
     "duration": 0.025761,
     "end_time": "2025-04-11T00:06:00.209737",
     "exception": false,
     "start_time": "2025-04-11T00:06:00.183976",
     "status": "completed"
    },
    "tags": []
   },
   "outputs": [],
   "source": [
    "features = [\"Genre\", \"NA_Sales\", \"EU_Sales\", \"JP_Sales\", \"Other_Sales\"]\n",
    "x = df[features]\n",
    "y = df[\"Global_Sales\"]"
   ]
  },
  {
   "cell_type": "code",
   "execution_count": 4,
   "id": "a95ed8c9",
   "metadata": {
    "execution": {
     "iopub.execute_input": "2025-04-11T00:06:00.217612Z",
     "iopub.status.busy": "2025-04-11T00:06:00.217166Z",
     "iopub.status.idle": "2025-04-11T00:06:00.225892Z",
     "shell.execute_reply": "2025-04-11T00:06:00.224780Z"
    },
    "papermill": {
     "duration": 0.014772,
     "end_time": "2025-04-11T00:06:00.227838",
     "exception": false,
     "start_time": "2025-04-11T00:06:00.213066",
     "status": "completed"
    },
    "tags": []
   },
   "outputs": [],
   "source": [
    "le = LabelEncoder()\n",
    "genre_encoded = le.fit_transform(x[\"Genre\"])"
   ]
  },
  {
   "cell_type": "code",
   "execution_count": 5,
   "id": "094c7814",
   "metadata": {
    "execution": {
     "iopub.execute_input": "2025-04-11T00:06:00.236758Z",
     "iopub.status.busy": "2025-04-11T00:06:00.236461Z",
     "iopub.status.idle": "2025-04-11T00:06:00.243326Z",
     "shell.execute_reply": "2025-04-11T00:06:00.242284Z"
    },
    "papermill": {
     "duration": 0.013575,
     "end_time": "2025-04-11T00:06:00.245150",
     "exception": false,
     "start_time": "2025-04-11T00:06:00.231575",
     "status": "completed"
    },
    "tags": []
   },
   "outputs": [],
   "source": [
    "x = pd.concat([x.drop(\"Genre\", axis=1), pd.DataFrame(genre_encoded, columns=[\"Genre Encoded\"])], axis=1)"
   ]
  },
  {
   "cell_type": "code",
   "execution_count": 6,
   "id": "861babb6",
   "metadata": {
    "execution": {
     "iopub.execute_input": "2025-04-11T00:06:00.254660Z",
     "iopub.status.busy": "2025-04-11T00:06:00.253735Z",
     "iopub.status.idle": "2025-04-11T00:06:00.285233Z",
     "shell.execute_reply": "2025-04-11T00:06:00.284280Z"
    },
    "papermill": {
     "duration": 0.03831,
     "end_time": "2025-04-11T00:06:00.286806",
     "exception": false,
     "start_time": "2025-04-11T00:06:00.248496",
     "status": "completed"
    },
    "tags": []
   },
   "outputs": [
    {
     "data": {
      "text/html": [
       "<div>\n",
       "<style scoped>\n",
       "    .dataframe tbody tr th:only-of-type {\n",
       "        vertical-align: middle;\n",
       "    }\n",
       "\n",
       "    .dataframe tbody tr th {\n",
       "        vertical-align: top;\n",
       "    }\n",
       "\n",
       "    .dataframe thead th {\n",
       "        text-align: right;\n",
       "    }\n",
       "</style>\n",
       "<table border=\"1\" class=\"dataframe\">\n",
       "  <thead>\n",
       "    <tr style=\"text-align: right;\">\n",
       "      <th></th>\n",
       "      <th>NA_Sales</th>\n",
       "      <th>EU_Sales</th>\n",
       "      <th>JP_Sales</th>\n",
       "      <th>Other_Sales</th>\n",
       "      <th>Genre Encoded</th>\n",
       "      <th>Global_Sales</th>\n",
       "    </tr>\n",
       "  </thead>\n",
       "  <tbody>\n",
       "    <tr>\n",
       "      <th>NA_Sales</th>\n",
       "      <td>1.000000</td>\n",
       "      <td>0.767727</td>\n",
       "      <td>0.449787</td>\n",
       "      <td>0.634737</td>\n",
       "      <td>0.017435</td>\n",
       "      <td>0.941047</td>\n",
       "    </tr>\n",
       "    <tr>\n",
       "      <th>EU_Sales</th>\n",
       "      <td>0.767727</td>\n",
       "      <td>1.000000</td>\n",
       "      <td>0.435584</td>\n",
       "      <td>0.726385</td>\n",
       "      <td>0.016481</td>\n",
       "      <td>0.902836</td>\n",
       "    </tr>\n",
       "    <tr>\n",
       "      <th>JP_Sales</th>\n",
       "      <td>0.449787</td>\n",
       "      <td>0.435584</td>\n",
       "      <td>1.000000</td>\n",
       "      <td>0.290186</td>\n",
       "      <td>0.030085</td>\n",
       "      <td>0.611816</td>\n",
       "    </tr>\n",
       "    <tr>\n",
       "      <th>Other_Sales</th>\n",
       "      <td>0.634737</td>\n",
       "      <td>0.726385</td>\n",
       "      <td>0.290186</td>\n",
       "      <td>1.000000</td>\n",
       "      <td>0.009731</td>\n",
       "      <td>0.748331</td>\n",
       "    </tr>\n",
       "    <tr>\n",
       "      <th>Genre Encoded</th>\n",
       "      <td>0.017435</td>\n",
       "      <td>0.016481</td>\n",
       "      <td>0.030085</td>\n",
       "      <td>0.009731</td>\n",
       "      <td>1.000000</td>\n",
       "      <td>0.021671</td>\n",
       "    </tr>\n",
       "    <tr>\n",
       "      <th>Global_Sales</th>\n",
       "      <td>0.941047</td>\n",
       "      <td>0.902836</td>\n",
       "      <td>0.611816</td>\n",
       "      <td>0.748331</td>\n",
       "      <td>0.021671</td>\n",
       "      <td>1.000000</td>\n",
       "    </tr>\n",
       "  </tbody>\n",
       "</table>\n",
       "</div>"
      ],
      "text/plain": [
       "               NA_Sales  EU_Sales  JP_Sales  Other_Sales  Genre Encoded  \\\n",
       "NA_Sales       1.000000  0.767727  0.449787     0.634737       0.017435   \n",
       "EU_Sales       0.767727  1.000000  0.435584     0.726385       0.016481   \n",
       "JP_Sales       0.449787  0.435584  1.000000     0.290186       0.030085   \n",
       "Other_Sales    0.634737  0.726385  0.290186     1.000000       0.009731   \n",
       "Genre Encoded  0.017435  0.016481  0.030085     0.009731       1.000000   \n",
       "Global_Sales   0.941047  0.902836  0.611816     0.748331       0.021671   \n",
       "\n",
       "               Global_Sales  \n",
       "NA_Sales           0.941047  \n",
       "EU_Sales           0.902836  \n",
       "JP_Sales           0.611816  \n",
       "Other_Sales        0.748331  \n",
       "Genre Encoded      0.021671  \n",
       "Global_Sales       1.000000  "
      ]
     },
     "execution_count": 6,
     "metadata": {},
     "output_type": "execute_result"
    }
   ],
   "source": [
    "pd.concat([x, y], axis=1).corr()"
   ]
  },
  {
   "cell_type": "code",
   "execution_count": 7,
   "id": "94b33348",
   "metadata": {
    "execution": {
     "iopub.execute_input": "2025-04-11T00:06:00.295242Z",
     "iopub.status.busy": "2025-04-11T00:06:00.294891Z",
     "iopub.status.idle": "2025-04-11T00:06:00.609346Z",
     "shell.execute_reply": "2025-04-11T00:06:00.608120Z"
    },
    "papermill": {
     "duration": 0.320599,
     "end_time": "2025-04-11T00:06:00.611001",
     "exception": false,
     "start_time": "2025-04-11T00:06:00.290402",
     "status": "completed"
    },
    "tags": []
   },
   "outputs": [
    {
     "data": {
      "image/png": "[encoded data removed]",
      "text/plain": [
       "<Figure size 480x480 with 1 Axes>"
      ]
     },
     "metadata": {},
     "output_type": "display_data"
    }
   ],
   "source": [
    "plt.matshow(pd.concat([x, y], axis=1).corr())\n",
    "plt.show()"
   ]
  },
  {
   "cell_type": "code",
   "execution_count": 8,
   "id": "d274c1d5",
   "metadata": {
    "execution": {
     "iopub.execute_input": "2025-04-11T00:06:00.620141Z",
     "iopub.status.busy": "2025-04-11T00:06:00.619813Z",
     "iopub.status.idle": "2025-04-11T00:06:00.635726Z",
     "shell.execute_reply": "2025-04-11T00:06:00.634734Z"
    },
    "papermill": {
     "duration": 0.022362,
     "end_time": "2025-04-11T00:06:00.637635",
     "exception": false,
     "start_time": "2025-04-11T00:06:00.615273",
     "status": "completed"
    },
    "tags": []
   },
   "outputs": [],
   "source": [
    "x_train, x_test, y_train, y_test = train_test_split(x, y, test_size=.2, stratify=x[\"Genre Encoded\"])"
   ]
  },
  {
   "cell_type": "code",
   "execution_count": 9,
   "id": "32893009",
   "metadata": {
    "execution": {
     "iopub.execute_input": "2025-04-11T00:06:00.646219Z",
     "iopub.status.busy": "2025-04-11T00:06:00.645855Z",
     "iopub.status.idle": "2025-04-11T00:06:00.702870Z",
     "shell.execute_reply": "2025-04-11T00:06:00.701905Z"
    },
    "papermill": {
     "duration": 0.063562,
     "end_time": "2025-04-11T00:06:00.704839",
     "exception": false,
     "start_time": "2025-04-11T00:06:00.641277",
     "status": "completed"
    },
    "tags": []
   },
   "outputs": [
    {
     "data": {
      "text/html": [
       "<style>#sk-container-id-1 {color: black;background-color: white;}#sk-container-id-1 pre{padding: 0;}#sk-container-id-1 div.sk-toggleable {background-color: white;}#sk-container-id-1 label.sk-toggleable__label {cursor: pointer;display: block;width: 100%;margin-bottom: 0;padding: 0.3em;box-sizing: border-box;text-align: center;}#sk-container-id-1 label.sk-toggleable__label-arrow:before {content: \"▸\";float: left;margin-right: 0.25em;color: #696969;}#sk-container-id-1 label.sk-toggleable__label-arrow:hover:before {color: black;}#sk-container-id-1 div.sk-estimator:hover label.sk-toggleable__label-arrow:before {color: black;}#sk-container-id-1 div.sk-toggleable__content {max-height: 0;max-width: 0;overflow: hidden;text-align: left;background-color: #f0f8ff;}#sk-container-id-1 div.sk-toggleable__content pre {margin: 0.2em;color: black;border-radius: 0.25em;background-color: #f0f8ff;}#sk-container-id-1 input.sk-toggleable__control:checked~div.sk-toggleable__content {max-height: 200px;max-width: 100%;overflow: auto;}#sk-container-id-1 input.sk-toggleable__control:checked~label.sk-toggleable__label-arrow:before {content: \"▾\";}#sk-container-id-1 div.sk-estimator input.sk-toggleable__control:checked~label.sk-toggleable__label {background-color: #d4ebff;}#sk-container-id-1 div.sk-label input.sk-toggleable__control:checked~label.sk-toggleable__label {background-color: #d4ebff;}#sk-container-id-1 input.sk-hidden--visually {border: 0;clip: rect(1px 1px 1px 1px);clip: rect(1px, 1px, 1px, 1px);height: 1px;margin: -1px;overflow: hidden;padding: 0;position: absolute;width: 1px;}#sk-container-id-1 div.sk-estimator {font-family: monospace;background-color: #f0f8ff;border: 1px dotted black;border-radius: 0.25em;box-sizing: border-box;margin-bottom: 0.5em;}#sk-container-id-1 div.sk-estimator:hover {background-color: #d4ebff;}#sk-container-id-1 div.sk-parallel-item::after {content: \"\";width: 100%;border-bottom: 1px solid gray;flex-grow: 1;}#sk-container-id-1 div.sk-label:hover label.sk-toggleable__label {background-color: #d4ebff;}#sk-container-id-1 div.sk-serial::before {content: \"\";position: absolute;border-left: 1px solid gray;box-sizing: border-box;top: 0;bottom: 0;left: 50%;z-index: 0;}#sk-container-id-1 div.sk-serial {display: flex;flex-direction: column;align-items: center;background-color: white;padding-right: 0.2em;padding-left: 0.2em;position: relative;}#sk-container-id-1 div.sk-item {position: relative;z-index: 1;}#sk-container-id-1 div.sk-parallel {display: flex;align-items: stretch;justify-content: center;background-color: white;position: relative;}#sk-container-id-1 div.sk-item::before, #sk-container-id-1 div.sk-parallel-item::before {content: \"\";position: absolute;border-left: 1px solid gray;box-sizing: border-box;top: 0;bottom: 0;left: 50%;z-index: -1;}#sk-container-id-1 div.sk-parallel-item {display: flex;flex-direction: column;z-index: 1;position: relative;background-color: white;}#sk-container-id-1 div.sk-parallel-item:first-child::after {align-self: flex-end;width: 50%;}#sk-container-id-1 div.sk-parallel-item:last-child::after {align-self: flex-start;width: 50%;}#sk-container-id-1 div.sk-parallel-item:only-child::after {width: 0;}#sk-container-id-1 div.sk-dashed-wrapped {border: 1px dashed gray;margin: 0 0.4em 0.5em 0.4em;box-sizing: border-box;padding-bottom: 0.4em;background-color: white;}#sk-container-id-1 div.sk-label label {font-family: monospace;font-weight: bold;display: inline-block;line-height: 1.2em;}#sk-container-id-1 div.sk-label-container {text-align: center;}#sk-container-id-1 div.sk-container {/* jupyter's `normalize.less` sets `[hidden] { display: none; }` but bootstrap.min.css set `[hidden] { display: none !important; }` so we also need the `!important` here to be able to override the default hidden behavior on the sphinx rendered scikit-learn.org. See: https://github.com/scikit-learn/scikit-learn/issues/21755 */display: inline-block !important;position: relative;}#sk-container-id-1 div.sk-text-repr-fallback {display: none;}</style><div id=\"sk-container-id-1\" class=\"sk-top-container\"><div class=\"sk-text-repr-fallback\"><pre>LinearRegression()</pre><b>In a Jupyter environment, please rerun this cell to show the HTML representation or trust the notebook. <br />On GitHub, the HTML representation is unable to render, please try loading this page with nbviewer.org.</b></div><div class=\"sk-container\" hidden><div class=\"sk-item\"><div class=\"sk-estimator sk-toggleable\"><input class=\"sk-toggleable__control sk-hidden--visually\" id=\"sk-estimator-id-1\" type=\"checkbox\" checked><label for=\"sk-estimator-id-1\" class=\"sk-toggleable__label sk-toggleable__label-arrow\">LinearRegression</label><div class=\"sk-toggleable__content\"><pre>LinearRegression()</pre></div></div></div></div></div>"
      ],
      "text/plain": [
       "LinearRegression()"
      ]
     },
     "execution_count": 9,
     "metadata": {},
     "output_type": "execute_result"
    }
   ],
   "source": [
    "reg = LinearRegression()\n",
    "reg.fit(x_train, y_train)"
   ]
  },
  {
   "cell_type": "code",
   "execution_count": 10,
   "id": "af02180a",
   "metadata": {
    "execution": {
     "iopub.execute_input": "2025-04-11T00:06:00.714578Z",
     "iopub.status.busy": "2025-04-11T00:06:00.713833Z",
     "iopub.status.idle": "2025-04-11T00:06:00.720498Z",
     "shell.execute_reply": "2025-04-11T00:06:00.719533Z"
    },
    "papermill": {
     "duration": 0.013296,
     "end_time": "2025-04-11T00:06:00.722282",
     "exception": false,
     "start_time": "2025-04-11T00:06:00.708986",
     "status": "completed"
    },
    "tags": []
   },
   "outputs": [],
   "source": [
    "pred = reg.predict(x_test)"
   ]
  },
  {
   "cell_type": "code",
   "execution_count": 11,
   "id": "6e803be0",
   "metadata": {
    "execution": {
     "iopub.execute_input": "2025-04-11T00:06:00.731614Z",
     "iopub.status.busy": "2025-04-11T00:06:00.731255Z",
     "iopub.status.idle": "2025-04-11T00:06:00.740768Z",
     "shell.execute_reply": "2025-04-11T00:06:00.739499Z"
    },
    "papermill": {
     "duration": 0.016445,
     "end_time": "2025-04-11T00:06:00.742845",
     "exception": false,
     "start_time": "2025-04-11T00:06:00.726400",
     "status": "completed"
    },
    "tags": []
   },
   "outputs": [
    {
     "data": {
      "text/plain": [
       "0.0029198869898581724"
      ]
     },
     "execution_count": 11,
     "metadata": {},
     "output_type": "execute_result"
    }
   ],
   "source": [
    "mean_absolute_error(y_test, pred)"
   ]
  },
  {
   "cell_type": "code",
   "execution_count": 12,
   "id": "309fc70c",
   "metadata": {
    "execution": {
     "iopub.execute_input": "2025-04-11T00:06:00.752159Z",
     "iopub.status.busy": "2025-04-11T00:06:00.751820Z",
     "iopub.status.idle": "2025-04-11T00:06:00.760724Z",
     "shell.execute_reply": "2025-04-11T00:06:00.759537Z"
    },
    "papermill": {
     "duration": 0.015953,
     "end_time": "2025-04-11T00:06:00.762722",
     "exception": false,
     "start_time": "2025-04-11T00:06:00.746769",
     "status": "completed"
    },
    "tags": []
   },
   "outputs": [
    {
     "data": {
      "text/plain": [
       "5035     0.38\n",
       "1979     1.05\n",
       "9370     0.13\n",
       "13890    0.04\n",
       "11633    0.08\n",
       "         ... \n",
       "7349     0.21\n",
       "9907     0.12\n",
       "3321     0.61\n",
       "13038    0.05\n",
       "15000    0.02\n",
       "Name: Global_Sales, Length: 3320, dtype: float64"
      ]
     },
     "execution_count": 12,
     "metadata": {},
     "output_type": "execute_result"
    }
   ],
   "source": [
    "y_test"
   ]
  },
  {
   "cell_type": "code",
   "execution_count": 13,
   "id": "afeb1996",
   "metadata": {
    "execution": {
     "iopub.execute_input": "2025-04-11T00:06:00.772812Z",
     "iopub.status.busy": "2025-04-11T00:06:00.771684Z",
     "iopub.status.idle": "2025-04-11T00:06:00.779115Z",
     "shell.execute_reply": "2025-04-11T00:06:00.778264Z"
    },
    "papermill": {
     "duration": 0.014075,
     "end_time": "2025-04-11T00:06:00.780800",
     "exception": false,
     "start_time": "2025-04-11T00:06:00.766725",
     "status": "completed"
    },
    "tags": []
   },
   "outputs": [
    {
     "data": {
      "text/plain": [
       "0.0029198869898581724"
      ]
     },
     "execution_count": 13,
     "metadata": {},
     "output_type": "execute_result"
    }
   ],
   "source": [
    "mean_absolute_error(y_test,pred)"
   ]
  },
  {
   "cell_type": "code",
   "execution_count": null,
   "id": "8f900e96",
   "metadata": {
    "papermill": {
     "duration": 0.003812,
     "end_time": "2025-04-11T00:06:00.788592",
     "exception": false,
     "start_time": "2025-04-11T00:06:00.784780",
     "status": "completed"
    },
    "tags": []
   },
   "outputs": [],
   "source": []
  }
 ],
 "metadata": {
  "kaggle": {
   "accelerator": "none",
   "dataSources": [
    {
     "datasetId": 6934705,
     "sourceId": 11120699,
     "sourceType": "datasetVersion"
    }
   ],
   "dockerImageVersionId": 31012,
   "isGpuEnabled": false,
   "isInternetEnabled": false,
   "language": "python",
   "sourceType": "notebook"
  },
  "kernelspec": {
   "display_name": "Python 3",
   "language": "python",
   "name": "python3"
  },
  "language_info": {
   "codemirror_mode": {
    "name": "ipython",
    "version": 3
   },
   "file_extension": ".py",
   "mimetype": "text/x-python",
   "name": "python",
   "nbconvert_exporter": "python",
   "pygments_lexer": "ipython3",
   "version": "3.11.11"
  },
  "papermill": {
   "default_parameters": {},
   "duration": 11.297419,
   "end_time": "2025-04-11T00:06:01.514455",
   "environment_variables": {},
   "exception": null,
   "input_path": "__notebook__.ipynb",
   "output_path": "__notebook__.ipynb",
   "parameters": {},
   "start_time": "2025-04-11T00:05:50.217036",
   "version": "2.6.0"
  }
 },
 "nbformat": 4,
 "nbformat_minor": 5
}
